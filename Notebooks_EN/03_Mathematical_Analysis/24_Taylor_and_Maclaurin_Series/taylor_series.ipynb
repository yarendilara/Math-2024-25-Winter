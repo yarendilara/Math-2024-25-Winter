{
  "nbformat": 4,
  "nbformat_minor": 0,
  "metadata": {
    "colab": {
      "provenance": []
    },
    "kernelspec": {
      "name": "python3",
      "display_name": "Python 3"
    },
    "language_info": {
      "name": "python"
    }
  },
  "cells": [
    {
      "cell_type": "markdown",
      "source": [
        "# Taylor Series and Tangent Lines\n",
        "\n",
        "## 1. Taylor Series Formula\n",
        "\n",
        "The Taylor series expansion of a function $f(x)$ around a point $x = a$ is given by:\n",
        "\n",
        "$$\n",
        "f(x) = f(a) + \\frac{f'(a)}{1!} (x - a) + \\frac{f''(a)}{2!} (x - a)^2 + \\frac{f'''(a)}{3!} (x - a)^3 + \\dots\n",
        "$$\n",
        "\n",
        "where:\n",
        "- $f(a)$ is the function value at $x = a$,\n",
        "- $f'(a)$ is the first derivative,\n",
        "- $f''(a)$ is the second derivative, and so on.\n",
        "\n",
        "When truncated to a certain degree, this polynomial serves as an approximation of $f(x)$.\n",
        "\n",
        "### Common Taylor Series Expansions\n",
        "\n",
        "1. **Exponential Function**  \n",
        "   $$\n",
        "   e^x = 1 + x + \\frac{x^2}{2!} + \\frac{x^3}{3!} + \\dots\n",
        "   $$\n",
        "\n",
        "2. **Sine Function**  \n",
        "   $$\n",
        "   \\sin(x) = x - \\frac{x^3}{3!} + \\frac{x^5}{5!} - \\dots\n",
        "   $$\n",
        "\n",
        "3. **Cosine Function**  \n",
        "   $$\n",
        "   \\cos(x) = 1 - \\frac{x^2}{2!} + \\frac{x^4}{4!} - \\dots\n",
        "   $$\n",
        "\n",
        "4. **Geometric Series**  \n",
        "   $$\n",
        "   \\frac{1}{1-x} = 1 + x + x^2 + x^3 + \\dots \\quad \\text{for} \\quad |x| < 1\n",
        "   $$\n",
        "\n",
        "## 2. Tangent Line Formula\n",
        "\n",
        "A tangent line at $x_0$ is given by:\n",
        "\n",
        "$$\n",
        "y = f'(x_0) (x - x_0) + f(x_0)\n",
        "$$\n",
        "\n",
        "This provides a **linear approximation** of a function near $x_0$. The tangent line touches the function at one point and has the same slope as the function at that point.\n",
        "\n",
        "## 3. Applications of Taylor Series and Tangent Lines\n",
        "\n",
        "### Taylor Series Applications:\n",
        "- **Approximating functions**: Taylor polynomials provide increasingly accurate approximations of functions.\n",
        "- **Solving differential equations**: Many equations do not have closed-form solutions but can be approximated using Taylor series.\n",
        "- **Physics and engineering**: Used in mechanics, thermodynamics, and electromagnetism to approximate physical behaviors.\n",
        "- **Computer science**: Applied in numerical methods and machine learning models.\n",
        "\n",
        "### Tangent Line Applications:\n",
        "- **Local linear approximation**: Used to estimate values of functions near a specific point.\n",
        "- **Optimization problems**: Helps determine increasing and decreasing behavior of functions.\n",
        "- **Physics**: Describes instantaneous velocity in kinematics.\n",
        "\n",
        "\n"
      ],
      "metadata": {
        "id": "ufLHWb49ZYjB"
      }
    },
    {
      "cell_type": "markdown",
      "source": [
        "## 23. Taylor Series\n",
        "\n",
        "1. Find the Taylor series and visualize obtained functions in Geogebra:\n",
        "   - $f(x) = \\cos(x)$ around $x = 0$ up to the 4th degree.\n",
        "   - $h(x) = 1/(1-x)$ around $x = 0$ up to the 4rd degree.\n",
        "   - $g(x) = \\sin(x)$ around $x = \\pi$ up to the 4rd degree.\n",
        "\n",
        "2. Find a tangent line $y = f'(x_0) (x-x_0) + f(x_0)$ to the function $f(x) = e^{\\sin(x)}$ at $x_0 = \\pi$. Hints for Geogebra visualization: define f(x), include slider s, define y = f'(s) (x-s) + f(s), and include point P(s, f(s))."
      ],
      "metadata": {
        "id": "FhNwslWmgCzy"
      }
    },
    {
      "cell_type": "markdown",
      "source": [
        "$$Q1$$\n",
        "\n",
        "https://www.geogebra.org/m/c66mv7rw\n",
        "\n",
        "\n",
        "$$Q2$$\n",
        "\n",
        "https://www.geogebra.org/calculator/vfmvajzg"
      ],
      "metadata": {
        "id": "mhXBqBUTdP5Z"
      }
    }
  ]
}