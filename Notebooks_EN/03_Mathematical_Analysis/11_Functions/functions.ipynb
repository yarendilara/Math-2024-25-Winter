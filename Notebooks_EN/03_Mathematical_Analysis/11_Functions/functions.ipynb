{
  "nbformat": 4,
  "nbformat_minor": 0,
  "metadata": {
    "colab": {
      "provenance": []
    },
    "kernelspec": {
      "name": "python3",
      "display_name": "Python 3"
    },
    "language_info": {
      "name": "python"
    }
  },
  "cells": [
    {
      "cell_type": "markdown",
      "source": [
        "# **Functions**\n",
        "\n",
        "## **Definition of a Function**\n",
        "A function $f: X \\to Y$ is a mathematical relationship that maps each element $x \\in X$ (the domain) to a unique element $y \\in Y$ (the codomain), denoted $f(x) = y$. The uniqueness criterion distinguishes functions from general relations.\n",
        "\n",
        "## **Basic Types of Functions**\n",
        "1. **Polynomial Functions**: These are functions of the form $f(x) = a_nx^n + a_{n-1}x^{n-1} + \\ldots + a_0$, where $n \\in \\mathbb{N}_0$ and $a_i \\in \\mathbb{R}$.  \n",
        "   Example: $f(x) = x^2$, a quadratic function.\n",
        "2. **Radical Functions**: Functions involving roots, such as $f(x) = \\sqrt{x}$, are defined only for non-negative $x$ in the real number system.\n",
        "3. **Rational Functions**: These are ratios of polynomials, $f(x) = \\frac{P(x)}{Q(x)}$, where $Q(x) \\neq 0$.  \n",
        "   Example: $f(x) = \\frac{1}{x}$, undefined at $x = 0$.\n",
        "4. **Trigonometric Functions**: Periodic functions, such as $f(x) = \\sin(x)$, model oscillatory behavior and are defined for all $x \\in \\mathbb{R}$.\n",
        "\n",
        "---\n",
        "\n",
        "## **Composite Functions**\n",
        "\n",
        "### **Definition**\n",
        "The composition of two functions $f$ and $g$, denoted $(f \\circ g)(x)$, is defined as $f(g(x))$. The domain of $f \\circ g$ is the set of all $x$ in the domain of $g$ such that $g(x)$ lies in the domain of $f$.\n",
        "\n",
        "### **Properties**\n",
        "1. Composition is generally not commutative: $f(g(x)) \\neq g(f(x))$.\n",
        "2. Associativity holds: $f(g(h(x))) = (f \\circ g) \\circ h(x)$.\n",
        "\n",
        "### **Examples**\n",
        "- If $f(x) = 3x - 1$ and $g(x) = \\sqrt{x}$:\n",
        "  - $f(g(x)) = f(\\sqrt{x}) = 3\\sqrt{x} - 1$.\n",
        "  - $g(f(x)) = g(3x - 1) = \\sqrt{3x - 1}$.\n",
        "\n",
        "---\n",
        "\n",
        "## **Inverse Functions**\n",
        "\n",
        "### **Definition**\n",
        "A function $f(x)$ has an inverse $f^{-1}(x)$ if and only if $f$ is bijective (i.e., both injective and surjective). The inverse satisfies:\n",
        "$$\n",
        "f(f^{-1}(x)) = x \\quad \\text{and} \\quad f^{-1}(f(x)) = x.\n",
        "$$\n",
        "\n",
        "### **Procedure to Find Inverse**\n",
        "1. Start with $y = f(x)$.\n",
        "2. Solve for $x$ in terms of $y$.\n",
        "3. Replace $y$ with $x$, yielding $f^{-1}(x)$.\n",
        "\n",
        "### **Examples**\n",
        "- $f(x) = x - 1$:\n",
        "  1. $y = x - 1$.\n",
        "  2. $x = y + 1$.\n",
        "  3. $f^{-1}(x) = x + 1$.\n",
        "\n",
        "### **Graphical Representation**\n",
        "The graph of $f^{-1}(x)$ is the reflection of $f(x)$ across the line $y = x$.\n",
        "\n",
        "---\n",
        "\n",
        "## **Exponential and Logarithmic Functions**\n",
        "\n",
        "### **Exponential Functions**\n",
        "An exponential function is of the form $f(x) = a^x$, where $a > 0$ and $a \\neq 1$. It is defined for all real $x$ and is strictly increasing (if $a > 1$) or decreasing (if $0 < a < 1$).\n",
        "\n",
        "### **Logarithmic Functions**\n",
        "The logarithm $g(x) = \\log_a(x)$ is the inverse of the exponential function, satisfying $g(a^x) = x$ and $a^{g(x)} = x$. It is defined for $x > 0$.\n",
        "\n",
        "### **Inverse Relationship**\n",
        "The functions $f(x) = e^x$ and $g(x) = \\ln(x)$ (where $e$ is Euler's number) are inverses:\n",
        "- $f(g(x)) = e^{\\ln(x)} = x$ for $x > 0$.\n",
        "- $g(f(x)) = \\ln(e^x) = x$ for all $x \\in \\mathbb{R}$.\n",
        "\n",
        "---\n",
        "\n",
        "## **Set-Based Representation of Functions**\n",
        "\n",
        "### **Tabular Representation**\n",
        "Functions can be expressed as a set of ordered pairs $f = \\{(x, y)\\}$, where each $x$ maps to exactly one $y$.\n",
        "\n",
        "### **Inverse in Set Representation**\n",
        "For $f = \\{(1, 7), (2, 9), (3, 11)\\}$, the inverse is obtained by swapping the $x$- and $y$-values:  \n",
        "$f^{-1} = \\{(7, 1), (9, 2), (11, 3)\\}$.\n",
        "\n"
      ],
      "metadata": {
        "id": "yju4sUqLHpeL"
      }
    },
    {
      "cell_type": "markdown",
      "source": [
        "**Questions:**\n",
        "## 18. Functions\n",
        "\n",
        "1. Draw in a single Geogebra notebook the following functions:\n",
        "   - $f(x) = x^2$\n",
        "   - $g(x) = \\sqrt{x}$\n",
        "   - $h(x) = \\frac{1}{x}$\n",
        "   - $j(x) = \\sin(x)$\n",
        "\n",
        "Find value of all the above functions at $x = 2$.\n",
        "\n",
        "2. Let $f(x) = 3x - 1$ and $g(x) = \\sqrt{x}$. Find:\n",
        "   - $f(g(x))$\n",
        "   - $g(f(x))$\n",
        "   - $f(f(x))$\n",
        "   - $g(g(x))$\n",
        "\n",
        "and visualize functions in a single Geogebra notebook.\n",
        "\n",
        "3. Let $f(x) = e^x$ and $g(x) = \\ln(x)$. Check: $f(g(x))$ and $g(f(x))$. What do you notice?\n",
        "\n",
        "4. We have function $f=\\{(1,7), (2,9), (3,11)\\}$. Give inverse function $f^{-1}$.\n",
        "\n",
        "5. We have function $f=\\{(1,7), (2,7), (3,11)\\}$. Give inverse function $f^{-1}$.\n",
        "\n",
        "6. We have function $f(x)= x-1$. Give inverse function $f^{-1}$. Show both functions on the same Geogebra notebook."
      ],
      "metadata": {
        "id": "TO4cljk9H6Zj"
      }
    },
    {
      "cell_type": "markdown",
      "source": [
        "$$Q1$$\n",
        "\n",
        "https://www.geogebra.org/graphing/e248unjb\n",
        "\n",
        "\n",
        "- $f(2) = 2^2 = 4$\n",
        "\n",
        "- $g(2) = \\sqrt{2} \\approx 1.414$\n",
        "\n",
        "- $h(2) = \\frac{1}{2} = 0.5$\n",
        "\n",
        "- $j(2) = \\sin(2) \\approx 0.909$\n",
        "\n"
      ],
      "metadata": {
        "id": "QmNfZk0LKGWx"
      }
    },
    {
      "cell_type": "markdown",
      "source": [
        "$$Q2 $$\n",
        "https://www.geogebra.org/graphing/vf9hmxnx"
      ],
      "metadata": {
        "id": "21ygFMl6RKUR"
      }
    },
    {
      "cell_type": "markdown",
      "source": [
        "$$Q3$$\n",
        "\n",
        "\n",
        "**$f(g(x))$**\n",
        "\n",
        "  Given:  \n",
        "  $f(x) = e^x$ and $g(x) = \\ln(x)$\n",
        "\n",
        "  $f(g(x)) = e^{\\ln(x)}$\n",
        "\n",
        "  exponential and logarithmic functions are inverses,  \n",
        "  $$e^{\\ln(x)} = x$$\n",
        "\n",
        "  $$f(g(x)) = x$$\n",
        "\n",
        "\n",
        " **$g(f(x))$**\n",
        "\n",
        "  Given:  \n",
        "  $f(x) = e^x$ and $g(x) = \\ln(x)$\n",
        "\n",
        "\n",
        "  $g(f(x)) = \\ln(e^x)$\n",
        "\n",
        "  $$\\ln(e^x) = x$$\n",
        "\n",
        "  So,  \n",
        "  $$g(f(x)) = x$$\n",
        "\n",
        "- Both $f(g(x))$ and $g(f(x))$ simplify to $x$.\n",
        "-  exponential and logarithmic functions are inverses of each other.\n"
      ],
      "metadata": {
        "id": "qvPSGoBxMJo8"
      }
    },
    {
      "cell_type": "markdown",
      "source": [
        "$$Q4$$\n",
        "\n",
        "\n",
        "\n",
        " We have function $f = \\{(1,7), (2,9), (3,11)\\}$. Give inverse function $f^{-1}$.\n",
        "\n",
        "\n",
        "The function is given as a set of ordered pairs:\n",
        "\n",
        "$f = \\{(1,7), (2,9), (3,11)\\}$\n",
        "\n",
        "To find $f^{-1}$,\n",
        "\n",
        "- For $f(1) = 7$, we get $f^{-1}(7) = 1$\n",
        "- For $f(2) = 9$, we get $f^{-1}(9) = 2$\n",
        "- For $f(3) = 11$, we get $f^{-1}(11) = 3$\n",
        "\n",
        "Thus, the inverse function is:\n",
        "\n",
        "$f^{-1} = \\{(7,1), (9,2), (11,3)\\}$\n",
        "\n",
        "\n"
      ],
      "metadata": {
        "id": "PNs48qVuM4kA"
      }
    },
    {
      "cell_type": "markdown",
      "source": [
        "$$Q5$$\n",
        "\n",
        "\n",
        "We have function $f = \\{(1,7), (2,7), (3,11)\\}$. Give inverse function $f^{-1}$.\n",
        "\n",
        "\n",
        "\n",
        "\n",
        "\n",
        "\n",
        "To find $f^{-1}$,\n",
        "- For $f(7) = 1$, we get $f^{-1}(7) = 1$\n",
        "- For $f(7) = 2$, we get $f^{-1}(7) = 2$\n",
        "- For $f(11) = 3$, we get $f^{-1}(11) = 3$\n",
        "\n",
        "\n",
        "\n",
        "Since $f(2) = 7$\n",
        "$$$$\n",
        "$f^{-1} = \\{(7,1), (7,2), (11,3)\\}$\n",
        "\n",
        "\n"
      ],
      "metadata": {
        "id": "19SmB_hLSX9p"
      }
    },
    {
      "cell_type": "markdown",
      "source": [
        "$$Q6$$\n",
        "\n",
        "https://www.geogebra.org/graphing/jr3re9nm"
      ],
      "metadata": {
        "id": "j_B0BjLfTl9X"
      }
    }
  ]
}