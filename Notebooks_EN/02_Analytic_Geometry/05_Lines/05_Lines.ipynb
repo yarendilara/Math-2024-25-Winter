# 05_Lines

## Types of Line Equations in the Plane

### General Equation of a Line
The general form of a line equation in two dimensions is given as:
\[
Ax + By + C = 0,
\]
where:
- \(A\), \(B\), and \(C\) are constants,
- \(x\) and \(y\) are variables.

### Canonical Equation of a Line
The canonical form simplifies the line equation by considering its slope and intercepts:
\[
y = mx + b,
\]
where:
- \(m\) is the slope,
- \(b\) is the \(y\)-intercept.

### Line Equation in Intercept Form
If a line intersects the \(x\)-axis at \((a, 0)\) and the \(y\)-axis at \((0, b)\), its equation can be written as:
\[
\frac{x}{a} + \frac{y}{b} = 1.
\]

### Line Equation in Slope Form
The slope-intercept form is:
\[
y - y_1 = m(x - x_1),
\]
where \((x_1, y_1)\) is a point on the line and \(m\) is the slope.

### Line Equation Passing Through Two Points
If a line passes through points \((x_1, y_1)\) and \((x_2, y_2)\), its equation is given by:
\[
\frac{y - y_1}{y_2 - y_1} = \frac{x - x_1}{x_2 - x_1}.
\]

## Relative Positions of Lines in the Plane

### Intersection of Two Lines
For two lines:
\[
A_1x + B_1y + C_1 = 0
\]
and
\[
A_2x + B_2y + C_2 = 0,
\]
we solve their simultaneous equations to find the intersection point.

### Angle Between Two Lines
The angle \(\theta\) between two lines with slopes \(m_1\) and \(m_2\) is:
\[
\tan \theta = \left| \frac{m_2 - m_1}{1 + m_1m_2} \right|.
\]

### Conditions for Parallelism and Perpendicularity
- Two lines are **parallel** if \(m_1 = m_2\).
- Two lines are **perpendicular** if \(m_1m_2 = -1\).

---

## Exercises

1. The line passes through points \(A(1, 2)\) and \(B(3, 4)\). Find the equation of the line.
2. The line passes through point \(A(1, 2)\) and is parallel to the line \(y = 2x + 3\). Find the equation of the line.
3. The line passes through point \(A(1, 2)\) and is perpendicular to the line \(y = 2x + 3\). Find the equation of the line.
4. We have two lines \(y = 2x + 3\) and \(y = 3x + 2\). Find the intersection point of these lines and calculate the angle between them.
5. Write the equation of the line passing through point \(A(1, 2)\) and parallel to the vector \(\mathbf{v} = [2, 3]\).
6. We have the line \(y = 2x + 3\). Find an example of a line perpendicular and parallel to it.
7. We have the line \(y = 2x + 3\) and point \(A(1, 2)\). Find the distance from point \(A\) to the line.
8. The line intersects the coordinate axes at points \(A(2, 0)\) and \(B(0, 3)\). Find the equation of the line.
9. Calculate the angle between the line \(y = x + 3\) and the \(Ox\) axis.
10. Provide a vector perpendicular to the line \(x + y + 1 = 0\).
