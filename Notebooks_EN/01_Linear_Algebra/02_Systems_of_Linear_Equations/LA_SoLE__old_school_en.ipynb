{
  "cells": [
    {
      "cell_type": "markdown",
      "metadata": {
        "id": "3cHYR2N_70Dr"
      },
      "source": [
        "# School Method for Solving Systems of Linear Equations"
      ]
    },
    {
      "cell_type": "code",
      "execution_count": 2,
      "metadata": {
        "id": "V4cDZDN-70Du"
      },
      "outputs": [],
      "source": [
        "import sympy as sp\n",
        "from sympy import symbols, Eq, expand, solve\n",
        "\n",
        "class EnhancedEq(Eq):\n",
        "    def __add__(self, other):\n",
        "        return EnhancedEq(self.lhs + other.lhs, self.rhs + other.rhs)\n",
        "\n",
        "    def __sub__(self, other):\n",
        "        return EnhancedEq(self.lhs - other.lhs, self.rhs - other.rhs)\n",
        "\n",
        "    def __mul__(self, scalar):\n",
        "        return EnhancedEq(scalar * self.lhs, scalar * self.rhs)\n",
        "\n",
        "    def __rmul__(self, scalar):\n",
        "        return self.__mul__(scalar)\n",
        "\n",
        "    def simplify(self):\n",
        "        return EnhancedEq(expand(self.lhs), expand(self.rhs))\n",
        "\n",
        "    def substitute(self, *args, **kwargs):\n",
        "        return EnhancedEq(self.lhs.subs(*args, **kwargs), self.rhs.subs(*args, **kwargs))\n",
        "\n",
        "    def solve_for(self, symbol):\n",
        "        return solve(self, symbol)\n",
        "\n",
        "# Example usage:\n",
        "x, y = symbols('x y')\n",
        "\n",
        "# Define equations\n",
        "eq1 = EnhancedEq(2*x + y, 5)\n",
        "eq2 = EnhancedEq(x - y, 1)"
      ]
    },
    {
      "cell_type": "code",
      "execution_count": 3,
      "metadata": {
        "id": "qrm4sdkS70Dw",
        "outputId": "41d15727-91d9-4888-f1a8-f1b4fc687e86",
        "colab": {
          "base_uri": "https://localhost:8080/",
          "height": 57
        }
      },
      "outputs": [
        {
          "output_type": "stream",
          "name": "stdout",
          "text": [
            "First equation:\n"
          ]
        },
        {
          "output_type": "execute_result",
          "data": {
            "text/plain": [
              "Eq(2*x + y, 5)"
            ],
            "text/latex": "$\\displaystyle 2 x + y = 5$"
          },
          "metadata": {},
          "execution_count": 3
        }
      ],
      "source": [
        "print(\"First equation:\")\n",
        "eq1"
      ]
    },
    {
      "cell_type": "code",
      "execution_count": 4,
      "metadata": {
        "id": "e9SSaGEg70Dx",
        "outputId": "d6b756c9-143e-4475-ddb8-10a9a4852fd4",
        "colab": {
          "base_uri": "https://localhost:8080/",
          "height": 57
        }
      },
      "outputs": [
        {
          "output_type": "stream",
          "name": "stdout",
          "text": [
            "Second equation:\n"
          ]
        },
        {
          "output_type": "execute_result",
          "data": {
            "text/plain": [
              "Eq(x - y, 1)"
            ],
            "text/latex": "$\\displaystyle x - y = 1$"
          },
          "metadata": {},
          "execution_count": 4
        }
      ],
      "source": [
        "print(\"Second equation:\")\n",
        "eq2"
      ]
    },
    {
      "cell_type": "code",
      "execution_count": 5,
      "metadata": {
        "id": "rIfcCe7k70Dx",
        "outputId": "26883edd-54da-4822-d021-8fdc7295eb6d",
        "colab": {
          "base_uri": "https://localhost:8080/",
          "height": 38
        }
      },
      "outputs": [
        {
          "output_type": "execute_result",
          "data": {
            "text/plain": [
              "Eq(3*x, 6)"
            ],
            "text/latex": "$\\displaystyle 3 x = 6$"
          },
          "metadata": {},
          "execution_count": 5
        }
      ],
      "source": [
        "# Add the equations\n",
        "eq3 = eq1 + eq2\n",
        "eq3"
      ]
    },
    {
      "cell_type": "code",
      "execution_count": 6,
      "metadata": {
        "id": "IhZQ8o5p70Dx",
        "outputId": "e7c3142d-1869-45e7-d4a0-d22875dd4d84",
        "colab": {
          "base_uri": "https://localhost:8080/",
          "height": 38
        }
      },
      "outputs": [
        {
          "output_type": "execute_result",
          "data": {
            "text/plain": [
              "2"
            ],
            "text/latex": "$\\displaystyle 2$"
          },
          "metadata": {},
          "execution_count": 6
        }
      ],
      "source": [
        "# We have an equation with one unknown, so we can solve it\n",
        "sol_x = eq3.solve_for(x)[0]\n",
        "sol_x"
      ]
    },
    {
      "cell_type": "code",
      "execution_count": 7,
      "metadata": {
        "id": "Y2hBc7Ef70Dx",
        "outputId": "9325b66f-8352-45fa-e60a-5ecf38e91be5",
        "colab": {
          "base_uri": "https://localhost:8080/",
          "height": 38
        }
      },
      "outputs": [
        {
          "output_type": "execute_result",
          "data": {
            "text/plain": [
              "Eq(2 - y, 1)"
            ],
            "text/latex": "$\\displaystyle 2 - y = 1$"
          },
          "metadata": {},
          "execution_count": 7
        }
      ],
      "source": [
        "# Substitute the solution into equation 2\n",
        "eq2 = eq2.substitute(x, sol_x)\n",
        "eq2"
      ]
    },
    {
      "cell_type": "code",
      "execution_count": 8,
      "metadata": {
        "id": "V6oViP4J70Dy",
        "outputId": "954dd568-00da-4f50-9330-df9fbbacd5f4",
        "colab": {
          "base_uri": "https://localhost:8080/",
          "height": 38
        }
      },
      "outputs": [
        {
          "output_type": "execute_result",
          "data": {
            "text/plain": [
              "1"
            ],
            "text/latex": "$\\displaystyle 1$"
          },
          "metadata": {},
          "execution_count": 8
        }
      ],
      "source": [
        "# We get an equation with one unknown, so we can solve it\n",
        "eq2.solve_for(y)[0]"
      ]
    },
    {
      "cell_type": "code",
      "execution_count": 9,
      "metadata": {
        "id": "niLWKu0270Dy",
        "outputId": "0ba46f0f-25cb-4280-eca4-a6d348ebd5c3",
        "colab": {
          "base_uri": "https://localhost:8080/"
        }
      },
      "outputs": [
        {
          "output_type": "execute_result",
          "data": {
            "text/plain": [
              "{x: 2, y: 1}"
            ]
          },
          "metadata": {},
          "execution_count": 9
        }
      ],
      "source": [
        "# Thus x=2, y=1\n",
        "# Verify with sympy\n",
        "sp.solve([eq1, eq2])"
      ]
    },
    {
      "cell_type": "markdown",
      "metadata": {
        "id": "AtLyMiVR70Dy"
      },
      "source": [
        "---\n",
        "\n",
        "### Exercises for Students\n",
        "\n",
        "Solve the following systems of equations similarly to the example above:\n",
        "\n",
        "* $3x-2y=5, \\quad 2x+3y=7$,\n",
        "* $2x-3y=10, \\quad 4x+5y=20$,\n",
        "* $2x - y + z = 3, \\quad x + 2y - z = 1, \\quad 3x - y + 2z = 11$.\n",
        "* $2x-3y+4z+2t=2, \\quad 3x+2y-5z+3t=3, \\quad 4x-3y+2z-5t=4, \\quad 5x+4y-3z+2t=5$."
      ]
    },
    {
      "cell_type": "markdown",
      "source": [
        "Q1\n",
        "\n",
        "$$\n",
        "\\begin{cases}\n",
        "3x - 2y = 5 \\\\\n",
        "2x + 3y = 7\n",
        "\\end{cases}\n",
        "$$\n",
        "\n",
        "---\n",
        "\n",
        "$$\n",
        "3x - 2y = 5 \\quad \\Rightarrow \\quad 3x = 5 + 2y \\quad \\Rightarrow \\quad x = \\frac{5 + 2y}{3}\n",
        "$$\n",
        "\n",
        "---\n",
        "\n",
        "$$\n",
        "2\\left(\\frac{5 + 2y}{3}\\right) + 3y = 7\n",
        "$$\n",
        "\n",
        "$$\n",
        "\\Rightarrow \\quad \\frac{2(5 + 2y)}{3} + 3y = 7 \\quad \\Rightarrow \\quad 2(5 + 2y) + 9y = 21\n",
        "$$\n",
        "\n",
        "$$\n",
        "\\Rightarrow \\quad 10 + 4y + 9y = 21 \\quad \\Rightarrow \\quad 10 + 13y = 21 \\quad \\Rightarrow \\quad 13y = 11\n",
        "$$\n",
        "\n",
        "$$\n",
        "y = \\frac{11}{13}\n",
        "$$\n",
        "\n",
        "---\n",
        "\n",
        "$$\n",
        "x = \\frac{5 + 2y}{3} = \\frac{5 + 2\\left(\\frac{11}{13}\\right)}{3} = \\frac{5 + \\frac{22}{13}}{3} = \\frac{\\frac{65}{13} + \\frac{22}{13}}{3} = \\frac{\\frac{87}{13}}{3} = \\frac{87}{39} = \\frac{29}{13}\n",
        "$$\n",
        "\n",
        "---\n",
        "\n",
        "$$\n",
        "x = \\frac{29}{13}, \\quad y = \\frac{11}{13}\n",
        "$$\n"
      ],
      "metadata": {
        "id": "S7YGI-BpFFen"
      }
    },
    {
      "cell_type": "markdown",
      "source": [
        "Q2\n",
        "\n",
        "$$\n",
        "\\begin{cases}\n",
        "2x - 3y = 10 \\\\\n",
        "4x + 5y = 20\n",
        "\\end{cases}\n",
        "$$\n",
        "\n",
        "---\n",
        "\n",
        "$$\n",
        "2x - 3y = 10 \\quad \\Rightarrow \\quad 2x = 10 + 3y \\quad \\Rightarrow \\quad x = \\frac{10 + 3y}{2}\n",
        "$$\n",
        "\n",
        "---\n",
        "\n",
        "$$\n",
        "4\\left(\\frac{10 + 3y}{2}\\right) + 5y = 20\n",
        "$$\n",
        "\n",
        "$$\n",
        "\\Rightarrow \\quad \\frac{4(10 + 3y)}{2} + 5y = 20 \\quad \\Rightarrow \\quad 2(10 + 3y) + 5y = 20\n",
        "$$\n",
        "\n",
        "$$\n",
        "\\Rightarrow \\quad 20 + 6y + 5y = 20 \\quad \\Rightarrow \\quad 20 + 11y = 20 \\quad \\Rightarrow \\quad 11y = 0\n",
        "$$\n",
        "\n",
        "$$\n",
        "y = 0\n",
        "$$\n",
        "\n",
        "---\n",
        "\n",
        "$$\n",
        "x = \\frac{10 + 3y}{2} = \\frac{10 + 3(0)}{2} = \\frac{10}{2} = 5\n",
        "$$\n",
        "\n",
        "---\n",
        "\n",
        "$$\n",
        "x = 5, \\quad y = 0\n",
        "$$\n"
      ],
      "metadata": {
        "id": "6WPMA_G4FVXY"
      }
    },
    {
      "cell_type": "markdown",
      "source": [
        "$$\n",
        "Q3\n",
        "$$\n",
        "\n",
        "\n",
        "$$\n",
        "\\begin{cases}\n",
        "2x - y + z = 3 \\\\\n",
        "x + 2y - z = 1 \\\\\n",
        "3x - y + 2z = 11\n",
        "\\end{cases}\n",
        "$$\n",
        "\n",
        "**Step 1: Add the first two equations.**\n",
        "\n",
        "$$\n",
        "(2x - y + z) + (x + 2y - z) = 3 + 1\n",
        "$$\n",
        "\n",
        "$$\n",
        "3x + y = 4\n",
        "$$\n",
        "\n",
        "**Step 2: Add the first and third equations.**\n",
        "\n",
        "$$\n",
        "(2x - y + z) + (3x - y + 2z) = 3 + 11\n",
        "$$\n",
        "\n",
        "$$\n",
        "5x - 2y + 3z = 14\n",
        "$$\n",
        "\n",
        "**Step 3: Multiply (3x + y = 4) by 2.**\n",
        "\n",
        "$$\n",
        "2(3x + y) = 2(4)\n",
        "$$\n",
        "\n",
        "$$\n",
        "6x + 2y = 8\n",
        "$$\n",
        "\n",
        "**Step 4: Subtract (3x + y = 4) from (6x + 2y = 8).**\n",
        "\n",
        "$$\n",
        "(6x + 2y) - (3x + y) = 8 - 4\n",
        "$$\n",
        "\n",
        "$$\n",
        "3x + y = 4\n",
        "$$\n",
        "\n",
        "**Step 5: Solve (3x + y = 4).**\n",
        "\n",
        "$$\n",
        "y = 4 - 3x\n",
        "$$\n",
        "\n",
        "**Step 6: Substitute (y = 4 - 3x) into (2x - y + z = 3).**\n",
        "\n",
        "$$\n",
        "2x - (4 - 3x) + z = 3\n",
        "$$\n",
        "\n",
        "$$\n",
        "2x - 4 + 3x + z = 3\n",
        "$$\n",
        "\n",
        "$$\n",
        "5x + z = 7\n",
        "$$\n",
        "\n",
        "**Step 7: Substitute (y = 4 - 3x) into (3x - y + 2z = 11).**\n",
        "\n",
        "$$\n",
        "3x - (4 - 3x) + 2z = 11\n",
        "$$\n",
        "\n",
        "$$\n",
        "3x - 4 + 3x + 2z = 11\n",
        "$$\n",
        "\n",
        "$$\n",
        "6x + 2z = 15\n",
        "$$\n",
        "\n",
        "**Step 8: Subtract (5x + z = 7) from (6x + 2z = 15).**\n",
        "\n",
        "$$\n",
        "(6x + 2z) - (5x + z) = 15 - 7\n",
        "$$\n",
        "\n",
        "$$\n",
        "x + z = 8\n",
        "$$\n",
        "\n",
        "**Step 9: Subtract (x + z = 8) from (5x + z = 7).**\n",
        "\n",
        "$$\n",
        "(5x + z) - (x + z) = 7 - 8\n",
        "$$\n",
        "\n",
        "$$\n",
        "4x = -1\n",
        "$$\n",
        "\n",
        "$$\n",
        "x = -\\frac{1}{4}\n",
        "$$\n",
        "\n",
        "**Step 10: Solve for y.**\n",
        "\n",
        "$$\n",
        "y = 4 - 3x\n",
        "$$\n",
        "\n",
        "$$\n",
        "y = 4 - 3\\left(-\\frac{1}{4}\\right)\n",
        "$$\n",
        "\n",
        "$$\n",
        "y = 4 + \\frac{3}{4}\n",
        "$$\n",
        "\n",
        "$$\n",
        "y = \\frac{16}{4} + \\frac{3}{4}\n",
        "$$\n",
        "\n",
        "$$\n",
        "y = \\frac{19}{4}\n",
        "$$\n",
        "\n",
        "**Step 11: Solve for z.**\n",
        "\n",
        "$$\n",
        "5x + z = 7\n",
        "$$\n",
        "\n",
        "$$\n",
        "5\\left(-\\frac{1}{4}\\right) + z = 7\n",
        "$$\n",
        "\n",
        "$$\n",
        "-\\frac{5}{4} + z = 7\n",
        "$$\n",
        "\n",
        "$$\n",
        "z = 7 + \\frac{5}{4}\n",
        "$$\n",
        "\n",
        "$$\n",
        "z = \\frac{28}{4} + \\frac{5}{4}\n",
        "$$\n",
        "\n",
        "$$\n",
        "z = \\frac{33}{4}\n",
        "$$\n",
        "\n",
        "**my answer:**\n",
        "\n",
        "$$\n",
        "x = -\\frac{1}{4}, \\quad y = \\frac{19}{4}, \\quad z = \\frac{33}{4}\n",
        "$$\n",
        "\n"
      ],
      "metadata": {
        "id": "wZ0Bsc-PFcQs"
      }
    }
  ],
  "metadata": {
    "kernelspec": {
      "display_name": "Python 3",
      "language": "python",
      "name": "python3"
    },
    "language_info": {
      "codemirror_mode": {
        "name": "ipython",
        "version": 3
      },
      "file_extension": ".py",
      "mimetype": "text/x-python",
      "name": "python",
      "nbconvert_exporter": "python",
      "pygments_lexer": "ipython3",
      "version": "3.11.9"
    },
    "colab": {
      "provenance": []
    }
  },
  "nbformat": 4,
  "nbformat_minor": 0
}