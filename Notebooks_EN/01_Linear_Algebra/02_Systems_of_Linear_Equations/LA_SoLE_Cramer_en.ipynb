{
  "cells": [
    {
      "cell_type": "markdown",
      "metadata": {
        "id": "olv1UGRnZ8Qj"
      },
      "source": [
        "# Cramer's Rule - Examples for 2x2, 3x3, and 4x4 Systems\n",
        "\n",
        "Cramer's rule is used only when the number of equations is equal to the number of unknowns. In other words, the coefficient matrix must be a square matrix.\n",
        "\n",
        "**These formulas are used only** when the **determinant** of the coefficient matrix is **non-zero**. Otherwise, the system of equations is either inconsistent or indeterminate.\n",
        "\n",
        "## 2x2 System of Equations\n",
        "\n",
        "Consider a system of two equations with two unknowns:\n",
        "\n",
        "$$\n",
        "\\begin{cases}\n",
        "a_{11}x_1 + a_{12}x_2 = b_1 \\\\\n",
        "a_{21}x_1 + a_{22}x_2 = b_2\n",
        "\\end{cases}\n",
        "$$\n",
        "\n",
        "Cramer's rule for the unknowns $ x_1 $ and $ x_2 $ is as follows:\n",
        "\n",
        "$$\n",
        "x_1 = \\frac{\\det(A_1)}{\\det(A)} \\quad \\text{and} \\quad x_2 = \\frac{\\det(A_2)}{\\det(A)}\n",
        "$$\n",
        "\n",
        "Where:\n",
        "\n",
        "$$\n",
        "\\det(A) =\n",
        "\\begin{vmatrix}\n",
        "a_{11} & a_{12} \\\\\n",
        "a_{21} & a_{22}\n",
        "\\end{vmatrix}\n",
        "= a_{11}a_{22} - a_{12}a_{21}\n",
        "$$\n",
        "\n",
        "$$\n",
        "\\det(A_1) =\n",
        "\\begin{vmatrix}\n",
        "b_1 & a_{12} \\\\\n",
        "b_2 & a_{22}\n",
        "\\end{vmatrix}\n",
        "= b_1a_{22} - a_{12}b_2\n",
        "$$\n",
        "\n",
        "$$\n",
        "\\det(A_2) =\n",
        "\\begin{vmatrix}\n",
        "a_{11} & b_1 \\\\\n",
        "a_{21} & b_2\n",
        "\\end{vmatrix}\n",
        "= a_{11}b_2 - b_1a_{21}\n",
        "$$\n",
        "\n",
        "## 3x3 System of Equations\n",
        "\n",
        "Consider a system of three equations with three unknowns:\n",
        "\n",
        "$$\n",
        "\\begin{cases}\n",
        "a_{11}x_1 + a_{12}x_2 + a_{13}x_3 = b_1 \\\\\n",
        "a_{21}x_1 + a_{22}x_2 + a_{23}x_3 = b_2 \\\\\n",
        "a_{31}x_1 + a_{32}x_2 + a_{33}x_3 = b_3\n",
        "\\end{cases}\n",
        "$$\n",
        "\n",
        "Cramer's rule for $ x_1 $, $ x_2 $, and $ x_3 $:\n",
        "\n",
        "$$\n",
        "x_1 = \\frac{\\det(A_1)}{\\det(A)} \\quad x_2 = \\frac{\\det(A_2)}{\\det(A)} \\quad x_3 = \\frac{\\det(A_3)}{\\det(A)}\n",
        "$$\n",
        "\n",
        "Where:\n",
        "\n",
        "$$\n",
        "\\det(A) =\n",
        "\\begin{vmatrix}\n",
        "a_{11} & a_{12} & a_{13} \\\\\n",
        "a_{21} & a_{22} & a_{23} \\\\\n",
        "a_{31} & a_{32} & a_{33}\n",
        "\\end{vmatrix}\n",
        "$$\n",
        "\n",
        "$$\n",
        "\\det(A_1) =\n",
        "\\begin{vmatrix}\n",
        "b_1 & a_{12} & a_{13} \\\\\n",
        "b_2 & a_{22} & a_{23} \\\\\n",
        "b_3 & a_{32} & a_{33}\n",
        "\\end{vmatrix}\n",
        "$$\n",
        "\n",
        "$$\n",
        "\\det(A_2) =\n",
        "\\begin{vmatrix}\n",
        "a_{11} & b_1 & a_{13} \\\\\n",
        "a_{21} & b_2 & a_{23} \\\\\n",
        "a_{31} & b_3 & a_{33}\n",
        "\\end{vmatrix}\n",
        "$$\n",
        "\n",
        "$$\n",
        "\\det(A_3) =\n",
        "\\begin{vmatrix}\n",
        "a_{11} & a_{12} & b_1 \\\\\n",
        "a_{21} & a_{22} & b_2 \\\\\n",
        "a_{31} & a_{32} & b_3\n",
        "\\end{vmatrix}\n",
        "$$\n",
        "\n",
        "## 4x4 System of Equations\n",
        "\n",
        "Consider a system of four equations with four unknowns:\n",
        "\n",
        "$$\n",
        "\\begin{cases}\n",
        "a_{11}x_1 + a_{12}x_2 + a_{13}x_3 + a_{14}x_4 = b_1 \\\\\n",
        "a_{21}x_1 + a_{22}x_2 + a_{23}x_3 + a_{24}x_4 = b_2 \\\\\n",
        "a_{31}x_1 + a_{32}x_2 + a_{33}x_3 + a_{34}x_4 = b_3 \\\\\n",
        "a_{41}x_1 + a_{42}x_2 + a_{43}x_3 + a_{44}x_4 = b_4\n",
        "\\end{cases}\n",
        "$$\n",
        "\n",
        "Cramer's rule for $ x_1 $, $ x_2 $, $ x_3 $, and $ x_4 $:\n",
        "\n",
        "$$\n",
        "x_1 = \\frac{\\det(A_1)}{\\det(A)} \\quad x_2 = \\frac{\\det(A_2)}{\\det(A)} \\quad x_3 = \\frac{\\det(A_3)}{\\det(A)} \\quad x_4 = \\frac{\\det(A_4)}{\\det(A)}\n",
        "$$\n",
        "\n",
        "Where:\n",
        "\n",
        "$$\n",
        "\\det(A) =\n",
        "\\begin{vmatrix}\n",
        "a_{11} & a_{12} & a_{13} & a_{14} \\\\\n",
        "a_{21} & a_{22} & a_{23} & a_{24} \\\\\n",
        "a_{31} & a_{32} & a_{33} & a_{34} \\\\\n",
        "a_{41} & a_{42} & a_{43} & a_{44}\n",
        "\\end{vmatrix}\n",
        "$$\n",
        "\n",
        "$$\n",
        "\\det(A_1) =\n",
        "\\begin{vmatrix}\n",
        "b_1 & a_{12} & a_{13} & a_{14} \\\\\n",
        "b_2 & a_{22} & a_{23} & a_{24} \\\\\n",
        "b_3 & a_{32} & a_{33} & a_{34} \\\\\n",
        "b_4 & a_{42} & a_{43} & a_{44}\n",
        "\\end{vmatrix}\n",
        "$$\n",
        "\n",
        "$$\n",
        "\\det(A_2) =\n",
        "\\begin{vmatrix}\n",
        "a_{11} & b_1 & a_{13} & a_{14} \\\\\n",
        "a_{21} & b_2 & a_{23} & a_{24} \\\\\n",
        "a_{31} & b_3 & a_{33} & a_{34} \\\\\n",
        "a_{41} & b_4 & a_{43} & a_{44}\n",
        "\\end{vmatrix}\n",
        "$$\n",
        "\n",
        "$$\n",
        "\\det(A_3) =\n",
        "\\begin{vmatrix}\n",
        "a_{11} & a_{12} & b_1 & a_{14} \\\\\n",
        "a_{21} & a_{22} & b_2 & a_{24} \\\\\n",
        "a_{31} & a_{32} & b_3 & a_{34} \\\\\n",
        "a_{41} & a_{42} & b_4 & a_{44}\n",
        "\\end{vmatrix}\n",
        "$$\n",
        "\n",
        "$$\n",
        "\\det(A_4) =\n",
        "\\begin{vmatrix}\n",
        "a_{11} & a_{12} & a_{13} & b_1 \\\\\n",
        "a_{21} & a_{22} & a_{23} & b_2 \\\\\n",
        "a_{31} & a_{32} & a_{33} & b_3 \\\\\n",
        "a_{41} & a_{42} & a_{43} & b_4\n",
        "\\end{vmatrix}\n",
        "$$\n",
        "\n",
        "## Example"
      ]
    },
    {
      "cell_type": "code",
      "execution_count": 3,
      "metadata": {
        "id": "k9Pb4L6YZ8Q0"
      },
      "outputs": [],
      "source": [
        "import sympy as sp\n",
        "\n",
        "# Define symbols\n",
        "x, y, z = sp.symbols('x y z')\n",
        "\n",
        "# Define the system of equations\n",
        "eq1 = sp.Eq(2*x + 3*y + z, 1)\n",
        "eq2 = sp.Eq(3*x + 2*y + 2*z, 2)\n",
        "eq3 = sp.Eq(x + y + z, 3)\n",
        "\n",
        "# Coefficient matrix of the system\n",
        "A = sp.Matrix([[2, 3, 1], [3, 2, 2], [1, 1, 1]])\n",
        "# Free terms vector\n",
        "b = sp.Matrix([1, 2, 3])"
      ]
    },
    {
      "cell_type": "code",
      "execution_count": 2,
      "metadata": {
        "id": "GUeGrv1QZ8Q3",
        "outputId": "bb87a5d7-152c-4587-c0f4-a0eb20e9df53",
        "colab": {
          "base_uri": "https://localhost:8080/",
          "height": 78
        }
      },
      "outputs": [
        {
          "output_type": "execute_result",
          "data": {
            "text/plain": [
              "Matrix([\n",
              "[2, 3, 1],\n",
              "[3, 2, 2],\n",
              "[1, 1, 1]])"
            ],
            "text/latex": "$\\displaystyle \\left[\\begin{matrix}2 & 3 & 1\\\\3 & 2 & 2\\\\1 & 1 & 1\\end{matrix}\\right]$"
          },
          "metadata": {},
          "execution_count": 2
        }
      ],
      "source": [
        "A"
      ]
    },
    {
      "cell_type": "code",
      "execution_count": 5,
      "metadata": {
        "id": "6ISurO1SZ8Q6",
        "outputId": "66fcf731-01b2-4424-fcb3-33b95a67d255",
        "colab": {
          "base_uri": "https://localhost:8080/",
          "height": 78
        }
      },
      "outputs": [
        {
          "output_type": "execute_result",
          "data": {
            "text/plain": [
              "Matrix([\n",
              "[1],\n",
              "[2],\n",
              "[3]])"
            ],
            "text/latex": "$\\displaystyle \\left[\\begin{matrix}1\\\\2\\\\3\\end{matrix}\\right]$"
          },
          "metadata": {},
          "execution_count": 5
        }
      ],
      "source": [
        "b"
      ]
    },
    {
      "cell_type": "code",
      "execution_count": 6,
      "metadata": {
        "id": "54-2wM0LZ8Q8",
        "outputId": "fb7999d7-5522-481a-c444-088b64fcbb4d",
        "colab": {
          "base_uri": "https://localhost:8080/",
          "height": 78
        }
      },
      "outputs": [
        {
          "output_type": "execute_result",
          "data": {
            "text/plain": [
              "Matrix([\n",
              "[1, 3, 1],\n",
              "[2, 2, 2],\n",
              "[3, 1, 1]])"
            ],
            "text/latex": "$\\displaystyle \\left[\\begin{matrix}1 & 3 & 1\\\\2 & 2 & 2\\\\3 & 1 & 1\\end{matrix}\\right]$"
          },
          "metadata": {},
          "execution_count": 6
        }
      ],
      "source": [
        "# Define matrix A_1\n",
        "A_1 = A.copy() # Copy matrix A\n",
        "A_1[:, 0] = b # Replace the first column of A with vector b\n",
        "A_1 # Check if the replacement was successful"
      ]
    },
    {
      "cell_type": "code",
      "execution_count": 7,
      "metadata": {
        "id": "wBc2LbpeZ8Q9",
        "outputId": "efcaefd5-d2c3-4937-fae4-a1b14eb9050b",
        "colab": {
          "base_uri": "https://localhost:8080/",
          "height": 38
        }
      },
      "outputs": [
        {
          "output_type": "execute_result",
          "data": {
            "text/plain": [
              "-4"
            ],
            "text/latex": "$\\displaystyle -4$"
          },
          "metadata": {},
          "execution_count": 7
        }
      ],
      "source": [
        "det_A_1 = A_1.det() # Calculate determinant of A_1\n",
        "sol_x = det_A_1 / A.det() # Calculate x_1\n",
        "sol_x # Calculated value of x_1"
      ]
    },
    {
      "cell_type": "code",
      "execution_count": 8,
      "metadata": {
        "id": "9R1xaCM2Z8RE",
        "outputId": "57fa3657-cec3-4ab4-e220-384e88559ff2",
        "colab": {
          "base_uri": "https://localhost:8080/",
          "height": 78
        }
      },
      "outputs": [
        {
          "output_type": "execute_result",
          "data": {
            "text/plain": [
              "Matrix([\n",
              "[2, 1, 1],\n",
              "[3, 2, 2],\n",
              "[1, 3, 1]])"
            ],
            "text/latex": "$\\displaystyle \\left[\\begin{matrix}2 & 1 & 1\\\\3 & 2 & 2\\\\1 & 3 & 1\\end{matrix}\\right]$"
          },
          "metadata": {},
          "execution_count": 8
        }
      ],
      "source": [
        "# Similarly for y\n",
        "A_2 = A.copy()\n",
        "A_2[:, 1] = b\n",
        "A_2 # Check if the replacement was successful"
      ]
    },
    {
      "cell_type": "code",
      "execution_count": 9,
      "metadata": {
        "id": "sp0f6hEKZ8RF",
        "outputId": "2f972900-c663-46c4-c75a-cab2c199f000",
        "colab": {
          "base_uri": "https://localhost:8080/",
          "height": 38
        }
      },
      "outputs": [
        {
          "output_type": "execute_result",
          "data": {
            "text/plain": [
              "1"
            ],
            "text/latex": "$\\displaystyle 1$"
          },
          "metadata": {},
          "execution_count": 9
        }
      ],
      "source": [
        "det_A_2 = A_2.det()\n",
        "sol_y = det_A_2 / A.det()\n",
        "sol_y"
      ]
    },
    {
      "cell_type": "code",
      "execution_count": 10,
      "metadata": {
        "id": "oAFrNYejZ8RH",
        "outputId": "cc799732-a0a1-4b0d-ad9a-0157874b7571",
        "colab": {
          "base_uri": "https://localhost:8080/",
          "height": 38
        }
      },
      "outputs": [
        {
          "output_type": "execute_result",
          "data": {
            "text/plain": [
              "6"
            ],
            "text/latex": "$\\displaystyle 6$"
          },
          "metadata": {},
          "execution_count": 10
        }
      ],
      "source": [
        "# Finally for z\n",
        "A_3 = A.copy()\n",
        "A_3[:, 2] = b\n",
        "det_A_3 = A_3.det()\n",
        "sol_z = det_A_3 / A.det()\n",
        "sol_z"
      ]
    },
    {
      "cell_type": "code",
      "execution_count": 11,
      "metadata": {
        "id": "Rx9qO2n_Z8RJ",
        "outputId": "621b43cd-3ef1-432c-8a21-4cd1b30e0f3b",
        "colab": {
          "base_uri": "https://localhost:8080/"
        }
      },
      "outputs": [
        {
          "output_type": "execute_result",
          "data": {
            "text/plain": [
              "{x: -4, y: 1, z: 6}"
            ]
          },
          "metadata": {},
          "execution_count": 11
        }
      ],
      "source": [
        "# Solve the system of equations\n",
        "sp.solve((eq1, eq2, eq3), (x, y, z))"
      ]
    },
    {
      "cell_type": "markdown",
      "metadata": {
        "id": "ehCua1n1Z8RL"
      },
      "source": [
        "---\n",
        "\n",
        "## Exercises for Students\n",
        "\n",
        "1. Solve the system of equations:\n",
        "   $$\n",
        "   \\begin{cases}\n",
        "   2x_1 - 3x_2 = 7 \\\\\n",
        "   3x_1 + 5x_2 = 2\n",
        "   \\end{cases}\n",
        "   $$\n",
        "\n",
        "2. Solve the system of equations:\n",
        "   $$\n",
        "   \\begin{cases}\n",
        "   2x + y - z = 1 \\\\\n",
        "   x - y + 2z = 4 \\\\\n",
        "   3x - 2z = -1\n",
        "   \\end{cases}\n",
        "   $$\n",
        "\n",
        "3. Solve the system of equations:\n",
        "   $$\n",
        "   \\begin{cases}\n",
        "   x + y + z - t = 2 \\\\\n",
        "   x - z + 2t = 6 \\\\\n",
        "   2x - 3y + t = 4 \\\\\n",
        "   3x + y + 3z - 4t = -2\n",
        "   \\end{cases}\n",
        "   $$\n",
        "\n",
        "4. Why can't the following system of equations be solved using Cramer's rule?\n",
        "$$\n",
        "\\begin{cases}\n",
        "x_1 + 2x_2 + 3x_3 = 3 \\\\\n",
        "4x_1 + 5x_2 + 6x_3 = 2 \\\\\n",
        "7x_1 + 8x_2 + 9x_3 = 1\n",
        "\\end{cases}\n",
        "$$"
      ]
    },
    {
      "cell_type": "markdown",
      "source": [
        "Q1"
      ],
      "metadata": {
        "id": "qWPax_c630aU"
      }
    },
    {
      "cell_type": "markdown",
      "source": [
        "$$\n",
        "\\begin{cases}\n",
        "2x_1 - 3x_2 = 7 \\\\\n",
        "3x_1 + 5x_2 = 2\n",
        "\\end{cases}\n",
        "$$\n",
        "\n",
        "$$\n",
        "\\mathbf{A} = \\begin{bmatrix} 2 & -3 \\\\ 3 & 5 \\end{bmatrix}, \\quad\n",
        "\\mathbf{x} = \\begin{bmatrix} x_1 \\\\ x_2 \\end{bmatrix}, \\quad\n",
        "\\mathbf{b} = \\begin{bmatrix} 7 \\\\ 2 \\end{bmatrix}\n",
        "$$\n",
        "\n",
        "$$\n",
        "\\det(\\mathbf{A}) = 2(5) - (-3)(3) = 10 + 9 = 19\n",
        "$$\n",
        "\n",
        "$$\n",
        "\\mathbf{A_1} = \\begin{bmatrix} 7 & -3 \\\\ 2 & 5 \\end{bmatrix}, \\quad\n",
        "\\det(\\mathbf{A_1}) = 7(5) - (-3)(2) = 35 + 6 = 41\n",
        "$$\n",
        "\n",
        "$$\n",
        "\\mathbf{A_2} = \\begin{bmatrix} 2 & 7 \\\\ 3 & 2 \\end{bmatrix}, \\quad\n",
        "\\det(\\mathbf{A_2}) = 2(2) - 7(3) = 4 - 21 = -17\n",
        "$$\n",
        "\n",
        "$$\n",
        "x_1 = \\frac{\\det(\\mathbf{A_1})}{\\det(\\mathbf{A})} = \\frac{41}{19}, \\quad\n",
        "x_2 = \\frac{\\det(\\mathbf{A_2})}{\\det(\\mathbf{A})} = \\frac{-17}{19}\n",
        "$$\n"
      ],
      "metadata": {
        "id": "L7KtOFLmatNg"
      }
    },
    {
      "cell_type": "markdown",
      "source": [
        "Q2"
      ],
      "metadata": {
        "id": "bbF7ftgT33qt"
      }
    },
    {
      "cell_type": "markdown",
      "source": [
        "$$\n",
        "\\begin{cases}\n",
        "2x + y - z = 1 \\\\\n",
        "x - y + 2z = 4 \\\\\n",
        "3x - 2z = -1\n",
        "\\end{cases}\n",
        "$$\n",
        "\n",
        "$$\n",
        "\\mathbf{A} = \\begin{bmatrix}\n",
        "2 & 1 & -1 \\\\\n",
        "1 & -1 & 2 \\\\\n",
        "3 & 0 & -2\n",
        "\\end{bmatrix}\n",
        "$$\n",
        "\n",
        "$$\n",
        "\\mathbf{B} = \\begin{bmatrix}\n",
        "1 \\\\\n",
        "4 \\\\\n",
        "-1\n",
        "\\end{bmatrix}\n",
        "$$\n",
        "\n",
        "$$\n",
        "\\mathbf{A_1} = \\begin{bmatrix}\n",
        "1 & 1 & -1 \\\\\n",
        "4 & -1 & 2 \\\\\n",
        "-1 & 0 & -2\n",
        "\\end{bmatrix}\n",
        "$$\n",
        "\n",
        "$$\n",
        "\\det(\\mathbf{A_1}) = 9\n",
        "$$\n",
        "\n",
        "$$\n",
        "\\mathbf{A_2} = \\begin{bmatrix}\n",
        "2 & 1 & -1 \\\\\n",
        "1 & 4 & 2 \\\\\n",
        "3 & -1 & -2\n",
        "\\end{bmatrix}\n",
        "$$\n",
        "\n",
        "$$\n",
        "\\det(\\mathbf{A_2}) = 9\n",
        "$$\n",
        "\n",
        "$$\n",
        "\\mathbf{A_3} = \\begin{bmatrix}\n",
        "2 & 1 & 1 \\\\\n",
        "1 & -1 & 4 \\\\\n",
        "3 & 0 & -1\n",
        "\\end{bmatrix}\n",
        "$$\n",
        "\n",
        "$$\n",
        "\\det(\\mathbf{A_3}) = 18\n",
        "$$\n",
        "\n",
        "$$\n",
        "\\det(\\mathbf{A}) = 9\n",
        "$$\n",
        "\n",
        "$$\n",
        "x = \\frac{\\det(\\mathbf{A_1})}{\\det(\\mathbf{A})} = \\frac{9}{9} = 1\n",
        "$$\n",
        "\n",
        "$$\n",
        "y = \\frac{\\det(\\mathbf{A_2})}{\\det(\\mathbf{A})} = \\frac{9}{9} = 1\n",
        "$$\n",
        "\n",
        "$$\n",
        "z = \\frac{\\det(\\mathbf{A_3})}{\\det(\\mathbf{A})} = \\frac{18}{9} = 2\n",
        "$$\n"
      ],
      "metadata": {
        "id": "R20vjqjntZyv"
      }
    },
    {
      "cell_type": "markdown",
      "source": [
        "Q3"
      ],
      "metadata": {
        "id": "ESc0Xvys3vkd"
      }
    },
    {
      "cell_type": "markdown",
      "source": [
        "Given system:\n",
        "\n",
        "$$\n",
        "\\begin{cases}\n",
        "x + y + z - t = 2 \\\\\n",
        "x - z + 2t = 6 \\\\\n",
        "2x - 3y + t = 4 \\\\\n",
        "3x + y + 3z - 4t = -2\n",
        "\\end{cases}\n",
        "$$\n",
        "\n",
        "The coefficient matrix \\(A\\):\n",
        "\n",
        "$$\n",
        "A = \\begin{pmatrix}\n",
        "1 & 1 & 1 & 1 \\\\\n",
        "2 & 1 & 0 & -1 \\\\\n",
        "3 & 2 & -3 & 0 \\\\\n",
        "4 & 3 & 1 & 3\n",
        "\\end{pmatrix}\n",
        "$$\n",
        "\n",
        "Determinant :\n",
        "\n",
        "$$\n",
        "\\Delta = \\begin{vmatrix}\n",
        "1 & 1 & 1 & 1 \\\\\n",
        "2 & 1 & 0 & -1 \\\\\n",
        "3 & 2 & -3 & 0 \\\\\n",
        "4 & 3 & 1 & 3\n",
        "\\end{vmatrix} = 8\n",
        "$$\n",
        "\n",
        "Solution vector \\(b\\):\n",
        "\n",
        "$$\n",
        "b = \\begin{pmatrix}\n",
        "2 \\\\\n",
        "6 \\\\\n",
        "4 \\\\\n",
        "-2\n",
        "\\end{pmatrix}\n",
        "$$\n",
        "\n",
        "Replace the 1st column of the matrix with the solution vector, matrix \\( A_1 \\):\n",
        "\n",
        "$$\n",
        "A_1 = \\begin{pmatrix}\n",
        "2 & 1 & 1 & 1 \\\\\n",
        "6 & 1 & 0 & -1 \\\\\n",
        "4 & 2 & -3 & 0 \\\\\n",
        "-2 & 3 & 1 & 3\n",
        "\\end{pmatrix}\n",
        "$$\n",
        "\n",
        "Determinant :\n",
        "\n",
        "$$\n",
        "\\Delta_1 = \\begin{vmatrix}\n",
        "2 & 1 & 1 & 1 \\\\\n",
        "6 & 1 & 0 & -1 \\\\\n",
        "4 & 2 & -3 & 0 \\\\\n",
        "-2 & 3 & 1 & 3\n",
        "\\end{vmatrix} = 4\n",
        "$$\n",
        "\n",
        "$$\n",
        "x = \\frac{\\Delta_1}{\\Delta} = \\frac{4}{8} = \\frac{1}{2}\n",
        "$$\n",
        "\n",
        "Replace the 2nd column of the matrix with the solution vector, matrix \\( A_2 \\):\n",
        "\n",
        "$$\n",
        "A_2 = \\begin{pmatrix}\n",
        "1 & 2 & 1 & 1 \\\\\n",
        "2 & 6 & 0 & -1 \\\\\n",
        "3 & 4 & -3 & 0 \\\\\n",
        "4 & -2 & 1 & 3\n",
        "\\end{pmatrix}\n",
        "$$\n",
        "\n",
        "Determinant \\( \\Delta_2 \\):\n",
        "\n",
        "$$\n",
        "\\Delta_2 = \\begin{vmatrix}\n",
        "1 & 2 & 1 & 1 \\\\\n",
        "2 & 6 & 0 & -1 \\\\\n",
        "3 & 4 & -3 & 0 \\\\\n",
        "4 & -2 & 1 & 3\n",
        "\\end{vmatrix} = 8\n",
        "$$\n",
        "\n",
        "$$\n",
        "y = \\frac{\\Delta_2}{\\Delta} = \\frac{8}{8} = 1\n",
        "$$\n",
        "\n",
        "Replace the 3rd column of the matrix with the solution vector, matrix \\( A_3 \\):\n",
        "\n",
        "$$\n",
        "A_3 = \\begin{pmatrix}\n",
        "1 & 1 & 2 & 1 \\\\\n",
        "2 & 1 & 6 & -1 \\\\\n",
        "3 & 2 & 4 & 0 \\\\\n",
        "4 & 3 & -2 & 3\n",
        "\\end{pmatrix}\n",
        "$$\n",
        "\n",
        "Determinant \\( \\Delta_3 \\):\n",
        "\n",
        "$$\n",
        "\\Delta_3 = \\begin{vmatrix}\n",
        "1 & 1 & 2 & 1 \\\\\n",
        "2 & 1 & 6 & -1 \\\\\n",
        "3 & 2 & 4 & 0 \\\\\n",
        "4 & 3 & -2 & 3\n",
        "\\end{vmatrix} = 52\n",
        "$$\n",
        "\n",
        "$$\n",
        "z = \\frac{\\Delta_3}{\\Delta} = \\frac{52}{8} = \\frac{13}{2}\n",
        "$$\n",
        "\n",
        "Replace the 4th column of the matrix with the solution vector, matrix \\( A_4 \\):\n",
        "\n",
        "$$\n",
        "A_4 = \\begin{pmatrix}\n",
        "1 & 1 & 1 & 2 \\\\\n",
        "2 & 1 & 0 & 6 \\\\\n",
        "3 & 2 & -3 & 4 \\\\\n",
        "4 & 3 & 1 & -2\n",
        "\\end{pmatrix}\n",
        "$$\n",
        "\n",
        "Determinant \\( \\Delta_4 \\):\n",
        "\n",
        "$$\n",
        "\\Delta_4 = \\begin{vmatrix}\n",
        "1 & 1 & 1 & 2 \\\\\n",
        "2 & 1 & 0 & 6 \\\\\n",
        "3 & 2 & -3 & 4 \\\\\n",
        "4 & 3 & 1 & -2\n",
        "\\end{vmatrix} = 48\n",
        "$$\n",
        "\n",
        "$$\n",
        "t = \\frac{\\Delta_4}{\\Delta} = \\frac{48}{8} = 6\n",
        "$$\n",
        "\n",
        "Results:\n",
        "\n",
        "$$\n",
        "x = \\frac{1}{2}, \\quad y = 1, \\quad z = \\frac{13}{2}, \\quad t = 6\n",
        "$$\n"
      ],
      "metadata": {
        "id": "wt0vHxTB295l"
      }
    },
    {
      "cell_type": "markdown",
      "source": [
        "Q4\n"
      ],
      "metadata": {
        "id": "kUMfCYM24WT8"
      }
    },
    {
      "cell_type": "markdown",
      "source": [
        "\n",
        "The coefficient matrix \\( A \\) is:\n",
        "\n",
        "$$\n",
        "A = \\begin{pmatrix}\n",
        "1 & 2 & 3 \\\\\n",
        "4 & 5 & 6 \\\\\n",
        "7 & 8 & 9\n",
        "\\end{pmatrix}\n",
        "$$\n",
        "\n",
        "\n",
        "$$\n",
        "\\Delta = \\begin{vmatrix}\n",
        "1 & 2 & 3 \\\\\n",
        "4 & 5 & 6 \\\\\n",
        "7 & 8 & 9\n",
        "\\end{vmatrix}\n",
        "$$\n",
        "\n",
        "\n",
        "\n",
        "$$\n",
        "\\Delta = 1 \\begin{vmatrix} 5 & 6 \\\\ 8 & 9 \\end{vmatrix} - 2 \\begin{vmatrix} 4 & 6 \\\\ 7 & 9 \\end{vmatrix} + 3 \\begin{vmatrix} 4 & 5 \\\\ 7 & 8 \\end{vmatrix}\n",
        "$$\n",
        "\n",
        "\n",
        "$$\n",
        "\\begin{vmatrix} 5 & 6 \\\\ 8 & 9 \\end{vmatrix} = (5)(9) - (6)(8) = 45 - 48 = -3\n",
        "$$\n",
        "\n",
        "$$\n",
        "\\begin{vmatrix} 4 & 6 \\\\ 7 & 9 \\end{vmatrix} = (4)(9) - (6)(7) = 36 - 42 = -6\n",
        "$$\n",
        "\n",
        "$$\n",
        "\\begin{vmatrix} 4 & 5 \\\\ 7 & 8 \\end{vmatrix} = (4)(8) - (5)(7) = 32 - 35 = -3\n",
        "$$\n",
        "\n",
        "\n",
        "$$\n",
        "\\Delta = 1(-3) - 2(-6) + 3(-3) = -3 + 12 - 9 = 0\n",
        "$$\n",
        "\n",
        "The determinant of matrix \\( A \\) is\n",
        "$$\\Delta = 0 $$\n",
        "\n",
        "Since the determinant of the coefficient matrix is zero, the system of equations cannot be solved using Cramer's rule.\n"
      ],
      "metadata": {
        "id": "3rb7un0z4YZf"
      }
    }
  ],
  "metadata": {
    "kernelspec": {
      "display_name": "Python 3",
      "language": "python",
      "name": "python3"
    },
    "language_info": {
      "codemirror_mode": {
        "name": "ipython",
        "version": 3
      },
      "file_extension": ".py",
      "mimetype": "text/x-python",
      "name": "python",
      "nbconvert_exporter": "python",
      "pygments_lexer": "ipython3",
      "version": "3.11.9"
    },
    "colab": {
      "provenance": []
    }
  },
  "nbformat": 4,
  "nbformat_minor": 0
}