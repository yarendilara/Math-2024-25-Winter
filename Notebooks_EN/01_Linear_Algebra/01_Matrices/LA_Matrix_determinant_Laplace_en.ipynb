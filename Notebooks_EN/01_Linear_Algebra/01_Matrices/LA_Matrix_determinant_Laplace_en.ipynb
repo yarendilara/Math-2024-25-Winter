{
  "cells": [
    {
      "cell_type": "markdown",
      "metadata": {
        "id": "O7fVW4Q8O2TP"
      },
      "source": [
        "# Determinants of 3x3 and 4x4 Matrices using Laplace expansion\n",
        "\n",
        "## Determinant of a 3x3 Matrix using Laplace expansion\n",
        "\n",
        "The general formula for the determinant of a 3x3 matrix is as follows:\n",
        "\n",
        "$$\n",
        "\\mathbf{A} =\n",
        "\\begin{pmatrix}\n",
        "a_{11} & a_{12} & a_{13} \\\\\n",
        "a_{21} & a_{22} & a_{23} \\\\\n",
        "a_{31} & a_{32} & a_{33}\n",
        "\\end{pmatrix}\n",
        "$$\n",
        "\n",
        "The determinant of a 3x3 matrix is calculated by expanding along the first row. We use Laplace expansion, which involves selecting elements of the first row and calculating the determinants of the 2x2 matrices that result from removing the appropriate rows and columns.\n",
        "\n",
        "Expanding along the first row of a 3x3 matrix:\n",
        "\n",
        "$$\n",
        "\\text{det}(A) =\n",
        "(-1)^{1+1}a_{11} \\cdot\n",
        "\\text{det}\n",
        "\\begin{pmatrix}\n",
        "a_{22} & a_{23} \\\\\n",
        "a_{32} & a_{33}\n",
        "\\end{pmatrix}\n",
        "+(-1)^{1+2} a_{12} \\cdot \\text{det}\n",
        "\\begin{pmatrix}\n",
        "a_{21} & a_{23} \\\\\n",
        "a_{31} & a_{33}\n",
        "\\end{pmatrix}\n",
        "+(-1)^{1+3}a_{13} \\cdot \\text{det}\n",
        "\\begin{pmatrix}\n",
        "a_{21} & a_{22} \\\\\n",
        "a_{31} & a_{32}\n",
        "\\end{pmatrix}\n",
        "$$\n",
        "\n",
        "### Example of a 3x3 Matrix\n",
        "\n",
        "For the matrix:\n",
        "\n",
        "$$\n",
        "\\mathbf{A} =\n",
        "\\begin{pmatrix}\n",
        "2 & 3 & 1 \\\\\n",
        "1 & 4 & 5 \\\\\n",
        "3 & 2 & 1\n",
        "\\end{pmatrix}\n",
        "$$\n",
        "\n",
        "Laplace expansion:\n",
        "\n",
        "$$\n",
        "\\text{det}(A) = 2 \\cdot\n",
        "\\text{det}\n",
        "\\begin{pmatrix}\n",
        "4 & 5 \\\\\n",
        "2 & 1\n",
        "\\end{pmatrix}\n",
        "- 3 \\cdot\n",
        "\\text{det}\n",
        "\\begin{pmatrix}\n",
        "1 & 5 \\\\\n",
        "3 & 1\n",
        "\\end{pmatrix}\n",
        "+ 1 \\cdot\n",
        "\\text{det}\n",
        "\\begin{pmatrix}\n",
        "1 & 4 \\\\\n",
        "3 & 2\n",
        "\\end{pmatrix}\n",
        "$$\n",
        "\n",
        "## Determinant of a 4x4 Matrix using Laplace Expansion\n",
        "\n",
        "The general formula for the determinant of a 4x4 matrix, where the matrix looks as follows:\n",
        "\n",
        "$$\n",
        "\\mathbf{B} =\n",
        "\\begin{pmatrix}\n",
        "a_{11} & a_{12} & a_{13} & a_{14} \\\\\n",
        "a_{21} & a_{22} & a_{23} & a_{24} \\\\\n",
        "a_{31} & a_{32} & a_{33} & a_{34} \\\\\n",
        "a_{41} & a_{42} & a_{43} & a_{44}\n",
        "\\end{pmatrix}\n",
        "$$\n",
        "\n",
        "The determinant of a 4x4 matrix is calculated by expanding along the first row. Similar to the 3x3 case, elements of the first row are multiplied by the determinants of the 3x3 matrices that result from removing the appropriate rows and columns.\n",
        "\n",
        "Expanding along the first row of a 4x4 matrix:\n",
        "\n",
        "$$\n",
        "\\text{det}(B) =\n",
        "(-1)^{1+1} \\cdot\n",
        "a_{11} \\cdot \\text{det}\n",
        "\\begin{pmatrix}\n",
        "a_{22} & a_{23} & a_{24} \\\\\n",
        "a_{32} & a_{33} & a_{34} \\\\\n",
        "a_{42} & a_{43} & a_{44}\n",
        "\\end{pmatrix}\n",
        "+ (-1)^{1+2} \\cdot\n",
        "a_{12} \\cdot \\text{det}\n",
        "\\begin{pmatrix}\n",
        "a_{21} & a_{23} & a_{24} \\\\\n",
        "a_{31} & a_{33} & a_{34} \\\\\n",
        "a_{41} & a_{43} & a_{44}\n",
        "\\end{pmatrix}\n",
        "+ (-1)^{1+3} \\cdot\n",
        "a_{13} \\cdot \\text{det}\n",
        "\\begin{pmatrix}\n",
        "a_{21} & a_{22} & a_{24} \\\\\n",
        "a_{31} & a_{32} & a_{34} \\\\\n",
        "a_{41} & a_{42} & a_{44}\n",
        "\\end{pmatrix}\n",
        "+ (-1)^{1+4} \\cdot\n",
        "a_{14} \\cdot \\text{det}\n",
        "\\begin{pmatrix}\n",
        "a_{21} & a_{22} & a_{23} \\\\\n",
        "a_{31} & a_{32} & a_{33} \\\\\n",
        "a_{41} & a_{42} & a_{43}\n",
        "\\end{pmatrix}\n",
        "$$\n",
        "\n",
        "### Example of a 4x4 Matrix\n",
        "\n",
        "For the matrix:\n",
        "\n",
        "$$\n",
        "\\mathbf{B} =\n",
        "\\begin{pmatrix}\n",
        "2 & 3 & 1 & 4 \\\\\n",
        "1 & 4 & 5 & 6 \\\\\n",
        "3 & 2 & 1 & 5 \\\\\n",
        "2 & 1 & 4 & 3\n",
        "\\end{pmatrix}\n",
        "$$\n",
        "\n",
        "Laplace expansion:\n",
        "\n",
        "$$\n",
        "\\text{det}(B) = 2 \\cdot \\text{det}\n",
        "\\begin{pmatrix}\n",
        "4 & 5 & 6 \\\\\n",
        "2 & 1 & 5 \\\\\n",
        "1 & 4 & 3\n",
        "\\end{pmatrix}\n",
        "- 3 \\cdot \\text{det}\n",
        "\\begin{pmatrix}\n",
        "1 & 5 & 6 \\\\\n",
        "3 & 1 & 5 \\\\\n",
        "2 & 4 & 3\n",
        "\\end{pmatrix}\n",
        "+ 1 \\cdot \\text{det}\n",
        "\\begin{pmatrix}\n",
        "1 & 4 & 6 \\\\\n",
        "3 & 2 & 5 \\\\\n",
        "2 & 1 & 3\n",
        "\\end{pmatrix}\n",
        "- 4 \\cdot \\text{det}\n",
        "\\begin{pmatrix}\n",
        "1 & 4 & 5 \\\\\n",
        "3 & 2 & 1 \\\\\n",
        "2 & 1 & 4\n",
        "\\end{pmatrix}\n",
        "$$\n",
        "\n",
        "### Calculating Determinants in Python using SymPy\n",
        "\n",
        "Below we will calculate the determinants of 3x3 and 4x4 matrices using Laplace expansion in Python, using the **SymPy** library."
      ]
    },
    {
      "cell_type": "code",
      "execution_count": 1,
      "metadata": {
        "id": "6iJewqSlO2TS",
        "outputId": "02861344-8dbb-4e5a-defc-246e6d611ec2",
        "colab": {
          "base_uri": "https://localhost:8080/",
          "height": 78
        }
      },
      "outputs": [
        {
          "output_type": "execute_result",
          "data": {
            "text/plain": [
              "Matrix([\n",
              "[2, 3, 1],\n",
              "[1, 4, 5],\n",
              "[3, 2, 1]])"
            ],
            "text/latex": "$\\displaystyle \\left[\\begin{matrix}2 & 3 & 1\\\\1 & 4 & 5\\\\3 & 2 & 1\\end{matrix}\\right]$"
          },
          "metadata": {},
          "execution_count": 1
        }
      ],
      "source": [
        "import sympy as sp\n",
        "\n",
        "# 3x3 Matrix\n",
        "A = sp.Matrix([[2, 3, 1], [1, 4, 5], [3, 2, 1]])\n",
        "A"
      ]
    },
    {
      "cell_type": "code",
      "execution_count": 2,
      "metadata": {
        "id": "v6XA6n6DO2TU",
        "outputId": "a843129c-4d27-46f7-cc58-c55285850320",
        "colab": {
          "base_uri": "https://localhost:8080/"
        }
      },
      "outputs": [
        {
          "output_type": "execute_result",
          "data": {
            "text/plain": [
              "True"
            ]
          },
          "metadata": {},
          "execution_count": 2
        }
      ],
      "source": [
        "# Select the first row [2, 3, 1]\n",
        "# Define the appropriate minors\n",
        "M11 = sp.Matrix([[4, 5], [2, 1]])\n",
        "M12 = sp.Matrix([[1, 5], [3, 1]])\n",
        "M13 = sp.Matrix([[1, 4], [3, 2]])\n",
        "\n",
        "# Calculate the determinant\n",
        "d = 2*M11.det() - 3*M12.det() + 1*M13.det()\n",
        "\n",
        "d == A.det()"
      ]
    },
    {
      "cell_type": "code",
      "execution_count": 3,
      "metadata": {
        "id": "0y3S_uLQO2TV",
        "outputId": "1a2257d1-a5e8-4481-c13f-f5cd82371aa6",
        "colab": {
          "base_uri": "https://localhost:8080/",
          "height": 98
        }
      },
      "outputs": [
        {
          "output_type": "execute_result",
          "data": {
            "text/plain": [
              "Matrix([\n",
              "[2, 0, 1, 0],\n",
              "[1, 4, 5, 6],\n",
              "[3, 2, 1, 5],\n",
              "[2, 1, 4, 3]])"
            ],
            "text/latex": "$\\displaystyle \\left[\\begin{matrix}2 & 0 & 1 & 0\\\\1 & 4 & 5 & 6\\\\3 & 2 & 1 & 5\\\\2 & 1 & 4 & 3\\end{matrix}\\right]$"
          },
          "metadata": {},
          "execution_count": 3
        }
      ],
      "source": [
        "# 4x4 Matrix\n",
        "B = sp.Matrix([[2, 0, 1, 0], [1, 4, 5, 6], [3, 2, 1, 5], [2, 1, 4, 3]])\n",
        "B"
      ]
    },
    {
      "cell_type": "code",
      "execution_count": 4,
      "metadata": {
        "id": "7ONqZDi-O2TV",
        "outputId": "8d06f089-4d0b-40e0-d4ff-04a308d8ade5",
        "colab": {
          "base_uri": "https://localhost:8080/"
        }
      },
      "outputs": [
        {
          "output_type": "execute_result",
          "data": {
            "text/plain": [
              "True"
            ]
          },
          "metadata": {},
          "execution_count": 4
        }
      ],
      "source": [
        "# Verify the correctness of the calculations\n",
        "M11 = sp.Matrix([[4, 5, 6], [2, 1, 5], [1, 4, 3]])\n",
        "M12 = sp.Matrix([[1, 5, 6], [3, 1, 5], [2, 4, 3]])\n",
        "M13 = sp.Matrix([[1, 4, 6], [3, 2, 5], [2, 1, 3]])\n",
        "M14 = sp.Matrix([[1, 4, 5], [3, 2, 1], [2, 1, 4]])\n",
        "\n",
        "(2*M11.det() - 0*M12.det() + 1*M13.det() - 0*M14.det()) == B.det()\n",
        "\n",
        "d = 2*M11.det() - 0*M12.det() + 1*M13.det() - 0*M14.det()\n",
        "d == B.det()"
      ]
    },
    {
      "cell_type": "markdown",
      "metadata": {
        "id": "bokm9stKO2TV"
      },
      "source": [
        "Note that only the first and third terms have non-zero coefficients, so it is not necessary to calculate the determinants of all minors!\n",
        "\n",
        "---\n",
        "\n",
        "## Exercises for Students\n",
        "\n",
        "Calculate the determinants of the following matrices:\n",
        "\n",
        "$$\n",
        "\\mathbf{A} =\n",
        "\\begin{pmatrix}\n",
        "2 & 3 & 1 \\\\\n",
        "1 & 4 & 0 \\\\\n",
        "3 & 2 & 1\n",
        "\\end{pmatrix}\n",
        ",\\qquad\n",
        "\\mathbf{B} =\n",
        "\\begin{pmatrix}\n",
        "2 & 3 & 1 \\\\\n",
        "1 & 4 & 0 \\\\\n",
        "3 & 2 & 0  \\\\\n",
        "\\end{pmatrix}\n",
        ",\\qquad\n",
        "\\mathbf{C} =\n",
        "\\begin{pmatrix}\n",
        "2 & 3 & 1 & 4 \\\\\n",
        "1 & 0 & 0 & 6 \\\\\n",
        "3 & 2 & 1 & 5 \\\\\n",
        "2 & 1 & 4 & 0\n",
        "\\end{pmatrix}\n",
        ",\\qquad\n",
        "\\mathbf{D} =\n",
        "\\begin{pmatrix}\n",
        "2 & 3 & 1 & 4 & 5 \\\\\n",
        "1 & 4 & 0 & 0 & 7 \\\\\n",
        "3 & 0 & 0 & 0 & 0 \\\\\n",
        "2 & 1 & 4 & 3 & 2 \\\\\n",
        "1 & 2 & 3 & 4 & 5\n",
        "\\end{pmatrix}\n",
        "$$"
      ]
    },
    {
      "cell_type": "markdown",
      "source": [
        "det(A)=2.det[4,0],[2,1]+(-3).det[1,0][3,1]+1.det[1,4][3,2]"
      ],
      "metadata": {
        "id": "VD6N4sZvXlhu"
      }
    },
    {
      "cell_type": "code",
      "source": [
        "# prompt: det(A)=2.det[4,0],[2,1]+(-3).det[1,0][3,1]+1.det[1,4][3,2]\n",
        "\n",
        "import sympy as sp\n",
        "\n",
        "# Define the matrix A\n",
        "A = sp.Matrix([[2, 3, 1], [1, 4, 0], [3, 2, 1]])\n",
        "\n",
        "# Calculate the determinant using the given formula\n",
        "det_A = 2 * sp.Matrix([[4, 0], [2, 1]]).det() - 3 * sp.Matrix([[1, 0], [3, 1]]).det() + 1 * sp.Matrix([[1, 4], [3, 2]]).det()\n",
        "\n",
        "# Verify with sympy's built-in determinant function\n",
        "print(\"Determinant of A (calculated):\", det_A)\n",
        "print(\"Determinant of A (using sympy):\", A.det())"
      ],
      "metadata": {
        "id": "cWLUftiiZs8a",
        "outputId": "0a4316e7-ca33-4fa5-9515-2da6bbe99141",
        "colab": {
          "base_uri": "https://localhost:8080/"
        }
      },
      "execution_count": 12,
      "outputs": [
        {
          "output_type": "stream",
          "name": "stdout",
          "text": [
            "Determinant of A (calculated): -5\n",
            "Determinant of A (using sympy): -5\n"
          ]
        }
      ]
    },
    {
      "cell_type": "markdown",
      "source": [
        "det(B)=(2).det[4,0],[2,0]+(-3).det[1,0],[3,0]+det[1,4],[3,2]\n",
        "det(B)= -10"
      ],
      "metadata": {
        "id": "Y4ZfDkzTdiaS"
      }
    },
    {
      "cell_type": "code",
      "source": [
        "# prompt: det(B)=(2).det[4,0],[2,0]+(-3).det[1,0],[3,0]+det[1,4],[3,2]\n",
        "\n",
        "import sympy as sp\n",
        "\n",
        "# Define the matrix B\n",
        "B = sp.Matrix([[2, 3, 1], [1, 4, 0], [3, 2, 0]])\n",
        "\n",
        "# Calculate the determinant using the given formula\n",
        "det_B = 2 * sp.Matrix([[4, 0], [2, 0]]).det() - 3 * sp.Matrix([[1, 0], [3, 0]]).det() + 1 * sp.Matrix([[1, 4], [3, 2]]).det()\n",
        "\n",
        "# Verify with sympy's built-in determinant function\n",
        "print(\"Determinant of B (calculated):\", det_B)\n",
        "print(\"Determinant of B (using sympy):\", B.det())"
      ],
      "metadata": {
        "outputId": "6f9e7889-41d2-4e49-f817-46065a5c8bef",
        "colab": {
          "base_uri": "https://localhost:8080/"
        },
        "id": "GJxZ2TVwdPiW"
      },
      "execution_count": null,
      "outputs": [
        {
          "output_type": "stream",
          "name": "stdout",
          "text": [
            "Determinant of B (calculated): -10\n",
            "Determinant of B (using sympy): -10\n"
          ]
        }
      ]
    },
    {
      "cell_type": "code",
      "source": [
        "# prompt: det(C)=(2).det[0,0,6],[2,1,5],[1,4,0]-(3).det[1,0,6],[3,1,5][2,4,0]+(1).det[1,0,6],[3,2,5],[2,1,0]\n",
        "\n",
        "import sympy as sp\n",
        "\n",
        "# Define the matrix C\n",
        "C = sp.Matrix([[2, 3, 1, 4], [1, 0, 0, 6], [3, 2, 1, 5], [2, 1, 4, 0]])\n",
        "\n",
        "# Calculate the determinant using the given formula\n",
        "M11 = sp.Matrix([[0, 0, 6], [2, 1, 5], [1, 4, 0]])\n",
        "M12 = sp.Matrix([[1, 0, 6], [3, 1, 5], [2, 4, 0]])\n",
        "M13 = sp.Matrix([[1, 0, 6], [3, 2, 5], [2, 1, 0]])\n",
        "\n",
        "det_C = 2 * M11.det() - 3 * M12.det() + 1 * M13.det()\n",
        "\n",
        "# Verify with sympy's built-in determinant function\n",
        "print(\"Determinant of C (calculated):\", det_C)\n",
        "print(\"Determinant of C (using sympy):\", C.det())"
      ],
      "metadata": {
        "colab": {
          "base_uri": "https://localhost:8080/"
        },
        "id": "Fve6159shLqF",
        "outputId": "e1a702e9-842e-4f97-9d39-6bf86ea13d36"
      },
      "execution_count": 18,
      "outputs": [
        {
          "output_type": "stream",
          "name": "stdout",
          "text": [
            "Determinant of C (calculated): -47\n",
            "Determinant of C (using sympy): -75\n"
          ]
        }
      ]
    },
    {
      "cell_type": "code",
      "source": [
        "# prompt: det(D)=2⋅det(M11)+(-3)⋅det(M12)+1⋅det(M13)+(-4)⋅det(M14)+5⋅det(M15)\n",
        "\n",
        "import sympy as sp\n",
        "\n",
        "# Define the matrix D\n",
        "D = sp.Matrix([[2, 3, 1, 4, 5],\n",
        "              [1, 4, 0, 0, 7],\n",
        "              [3, 0, 0, 0, 0],\n",
        "              [2, 1, 4, 3, 2],\n",
        "              [1, 2, 3, 4, 5]])\n",
        "\n",
        "# Calculate the determinants of the minors\n",
        "M11 = sp.Matrix([[4, 0, 0, 7], [0, 0, 0, 0], [1, 4, 3, 2], [2, 3, 4, 5]])\n",
        "M12 = sp.Matrix([[1, 0, 0, 7], [3, 0, 0, 0], [2, 4, 3, 2], [1, 3, 4, 5]])\n",
        "M13 = sp.Matrix([[1, 4, 0, 7], [3, 0, 0, 0], [2, 1, 3, 2], [1, 2, 4, 5]])\n",
        "M14 = sp.Matrix([[1, 4, 0, 7], [3, 0, 0, 0], [2, 1, 4, 2], [1, 2, 3, 5]])\n",
        "M15 = sp.Matrix([[1, 4, 0, 0], [3, 0, 0, 0], [2, 1, 4, 3], [1, 2, 3, 4]])\n",
        "\n",
        "\n",
        "# Calculate the determinant of D using the given formula\n",
        "det_D = 2 * M11.det() - 3 * M12.det() + 1 * M13.det() - 4 * M14.det() + 5 * M15.det()\n",
        "\n",
        "# Verify with sympy's built-in determinant function\n",
        "print(\"Determinant of D (calculated):\", det_D)\n",
        "print(\"Determinant of D (using sympy):\", D.det())"
      ],
      "metadata": {
        "id": "qfeEwn8rkTkP",
        "outputId": "0d6622de-98a8-4f7b-9a0a-91ed7aa482ed",
        "colab": {
          "base_uri": "https://localhost:8080/"
        }
      },
      "execution_count": 20,
      "outputs": [
        {
          "output_type": "stream",
          "name": "stdout",
          "text": [
            "Determinant of D (calculated): 231\n",
            "Determinant of D (using sympy): 231\n"
          ]
        }
      ]
    }
  ],
  "metadata": {
    "kernelspec": {
      "display_name": "Python 3",
      "language": "python",
      "name": "python3"
    },
    "language_info": {
      "codemirror_mode": {
        "name": "ipython",
        "version": 3
      },
      "file_extension": ".py",
      "mimetype": "text/x-python",
      "name": "python",
      "nbconvert_exporter": "python",
      "pygments_lexer": "ipython3",
      "version": "3.11.9"
    },
    "colab": {
      "provenance": []
    }
  },
  "nbformat": 4,
  "nbformat_minor": 0
}